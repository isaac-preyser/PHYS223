{
 "cells": [
  {
   "cell_type": "markdown",
   "metadata": {},
   "source": [
    "# Introduction to Quantum Computing  \n",
    "## Assignment 5 - Due March 21  \n",
    "### Quantum algorithms with IBM-Q  \n",
    "\n",
    "#### Instructions:  \n",
    "- All problems below should be solved with Qiskit using a Jupyter notebook in the UVic Jupyter hub: [https://jhub-phys.uvic.ca](https://jhub-phys.uvic.ca).\n",
    "- Once you’re done, submit your `.ipynb` file(s) to the A5 area in BrightSpace.\n",
    "\n",
    "---\n",
    "### Resources  \n",
    "- [UVic Jupyter Hub](https://jhub-phys.uvic.ca)  \n",
    "- [Qiskit Documentation](https://qiskit.org/documentation/)  \n",
    "- [IBM Quantum Lab](https://quantum-computing.ibm.com/)\n"
   ]
  },
  {
   "cell_type": "markdown",
   "metadata": {},
   "source": [
    "## 1. Quantum Cryptography (BB84)  \n",
    "Write a Qiskit code that implements BB84 with 15 qubits. You will play Alice, and there is no eavesdropper.  \n",
    "\n",
    "### (a) Simulated Bob  \n",
    "- Use the `AerSimulator` to play Bob.\n",
    "- State clearly the value of the one-time pad that you got.\n",
    "\n",
    "### (b) Real Device Bob  \n",
    "- Use a real quantum device of your choice to play Bob.\n",
    "- Clearly state the one-time pad that you got.\n",
    "- Does it agree with the one-time pad that Alice got?\n",
    "- Does it make sense to interpret the device’s intrinsic noise as an eavesdropper?\n"
   ]
  },
  {
   "cell_type": "markdown",
   "metadata": {},
   "source": [
    "## 2. Quantum Cloning  \n",
    "\n",
    "### (a) Design a Quantum Cloning Circuit  \n",
    "Design a quantum circuit that clones the states $|+\\rangle$ and $|-\\rangle$, i.e., design a unitary $ U $ that achieves the following:\n",
    "\n",
    "$$\n",
    "U (|+\\rangle |0\\rangle) = |+\\rangle |+\\rangle, \\\\\n",
    "U (|-\\rangle |0\\rangle) = |-\\rangle | -\\rangle.\n",
    "$$\n",
    "\n",
    "### (b) Cloning Fidelity  \n",
    "- Apply this $ U $ to $|0\\rangle$ and $|1\\rangle$.\n",
    "- Evaluate the \"cloning fidelity\" by computing:\n",
    "\n",
    "$$\n",
    "F_{\\psi} = |\\langle\\psi| \\langle\\psi| U (|\\psi\\rangle |0\\rangle)|^2\n",
    "$$\n",
    "\n",
    "for $|\\psi\\rangle = |0\\rangle$ and $|\\psi\\rangle = |1\\rangle$ using the `AerSimulator`. How good is the cloning?\n"
   ]
  },
  {
   "cell_type": "markdown",
   "metadata": {},
   "source": [
    "\n",
    "## 3. One-Qubit Tomography  \n",
    "Write the three circuits necessary to measure the projections of the state:\n",
    "\n",
    "$$\n",
    "|\\psi\\rangle = \\cos\\left(\\frac{\\pi}{8}\\right) |0\\rangle + \\sin\\left(\\frac{\\pi}{8}\\right) |1\\rangle,\n",
    "$$\n",
    "\n",
    "along the x, y, and z axes of the Bloch sphere.\n",
    "\n",
    "- Do this for the simulator and for a real device using **1000 shots**.\n",
    "- Use the function `plot_bloch_vector([px,py,pz])` to display the Bloch vectors.\n",
    "- How do they compare?\n",
    "\n"
   ]
  },
  {
   "cell_type": "markdown",
   "metadata": {},
   "source": [
    "## 4. Error Correction with the Three-Qubit Bit-Flip Code  \n",
    "\n",
    "The circuit shown below is the “automated” version of the three-qubit bit-flip error correction code described in class. The last five gates – Two CNOTs and three Toffolis – perform the same **correction protocol** achieved by the conditional measurement operations shown in class.\n",
    "\n",
    "- The final state $|\\Phi\\rangle$ of the ancillas remains $|00\\rangle$ if no error happens.\n",
    "- It becomes $|10\\rangle, |11\\rangle, |01\\rangle$ when one of the qubits 2, 1, 0 flips, respectively.\n",
    "- If another round of error correction is needed, the ancilla state $|\\Phi\\rangle$ must be reset to $|00\\rangle$.\n",
    "\n",
    "### (a) Implement the Algorithm  \n",
    "- Implement the algorithm for:\n",
    "\n",
    "$$\n",
    "|\\psi_{\\text{in}}\\rangle = \\frac{1}{\\sqrt{2}} (|000\\rangle + |111\\rangle)\n",
    "$$\n",
    "\n",
    "- In the simulator, check that it works by intentionally flipping each one of the three qubits in $|\\psi_{\\text{in}}\\rangle$ before the error correction procedure.\n",
    "- Measure $|\\psi_{\\text{out}}\\rangle$ in the computational basis and check that you get close to 50% probability for **000** and **111**.\n",
    "\n",
    "### (b) Run on a Real Device  \n",
    "- Run the same circuit in a **real device** (no need to add intentional flips!).\n",
    "- Measure $|\\psi_{\\text{out}}\\rangle$. How good is it?\n",
    "\n",
    "### (c) Compare Without Error Correction  \n",
    "- Run the same algorithm in the same real device **without** the last five “correction protocol” gates.\n",
    "- How do the computational basis probabilities for $|\\psi_{\\text{out}}\\rangle$ compare to those found in item (b)?\n",
    "- Conclude whether the device has low enough noise to benefit from error correction.\n"
   ]
  },
  {
   "cell_type": "markdown",
   "metadata": {},
   "source": [
    "## 5. Three-Bit Phase Estimation  \n",
    "\n",
    "### (a) Implement Phase Estimation  \n",
    "Implement the circuit below for $ U = R_y(\\theta) $ with:\n",
    "\n",
    "$$\n",
    "\\frac{\\theta}{4\\pi} = 0.j_1j_2j_3,\n",
    "$$\n",
    "\n",
    "where **$ j_1j_2j_3 $** is your choice of three base-2 decimals.\n",
    "\n",
    "- Note that $ \\frac{\\theta}{4\\pi} $ is the associated phase **$ \\phi_u $** for $|u\\rangle = |-i\\rangle$, since:\n",
    "\n",
    "$$\n",
    "R_y(\\theta) |-i\\rangle = e^{+i\\frac{\\theta}{2}} |-i\\rangle = e^{+2\\pi i \\frac{\\theta}{4\\pi}} |-i\\rangle.\n",
    "$$\n",
    "\n",
    "- Input $|\\psi\\rangle = |-i\\rangle$.\n",
    "- Run the circuit in **both the simulator and a real device** to compare.\n",
    "\n",
    "### (b) Small Perturbation  \n",
    "- Run the circuit again for $ \\frac{\\theta}{4\\pi} = 0.j_1j_2j_3 - \\epsilon $, with **$ \\epsilon $** small.\n",
    "- If you run the circuit many times, does it return the **$ 0.j_1j_2j_3 $** closest to the correct answer **$ \\frac{\\theta}{4\\pi} $**?\n",
    "- How does the real device compare to the simulator?\n",
    "\n"
   ]
  }
 ],
 "metadata": {
  "language_info": {
   "name": "python"
  }
 },
 "nbformat": 4,
 "nbformat_minor": 2
}
