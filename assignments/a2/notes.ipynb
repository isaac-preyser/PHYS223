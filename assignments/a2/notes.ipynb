{
 "cells": [
  {
   "cell_type": "markdown",
   "metadata": {},
   "source": [
    "# PHYS223 Assignment 2\n",
    "#### Isaac Preyser (V01022512)\n"
   ]
  },
  {
   "cell_type": "markdown",
   "metadata": {},
   "source": [
    "### Problem 1\n",
    "Find eigenvalues and associated eigenvectors for the Pauli matrices: \n",
    "\n",
    "$$ \\sigma_I = \\begin{bmatrix} 1 & 0 \\\\ 0 & 1 \\end{bmatrix} $$\n",
    "\n",
    "$$ \\sigma_x = \\begin{bmatrix} 0 & 1 \\\\ 1 & 0 \\end{bmatrix} $$\n",
    "\n",
    "$$ \\sigma_y = \\begin{bmatrix} 0 & -i \\\\ i & 0 \\end{bmatrix} $$\n",
    "\n",
    "$$ \\sigma_z = \\begin{bmatrix} 1 & 0 \\\\ 0 & -1 \\end{bmatrix} $$\n",
    "\n",
    "#### Solution\n",
    "\n",
    "$$ \\sigma_I | \\lambda \\rangle = \\lambda | \\lambda \\rangle $$\n",
    "$$ \\begin{bmatrix} 1 & 0 \\\\ 0 & 1 \\end{bmatrix} \\begin{bmatrix} c_1 \\\\ c_2 \\end{bmatrix} = \\lambda \\begin{bmatrix} c_1 \\\\ c_2 \\end{bmatrix} $$\n",
    "$$ \\begin{bmatrix} c_1 \\\\ c_2 \\end{bmatrix} = \\begin{bmatrix} \\lambda c_1 \\\\ \\lambda c_2 \\end{bmatrix} $$\n",
    "$$ c_1 = \\lambda c_1 $$\n",
    "$$ c_2 = \\lambda c_2 $$\n",
    "$$ \\lambda = 1 $$\n",
    "\n",
    "Now we can find the eigenvectors for $\\sigma_I$:\n",
    "With associated eigenvalue $\\lambda = 1$:\n",
    "$$ (\\sigma_I - \\lambda I) | \\lambda \\rangle = \\vec{0} $$\n",
    "$$ \\begin{bmatrix} 0 & 0 \\\\ 0 & 0 \\end{bmatrix} \\begin{bmatrix} c_1 \\\\ c_2 \\end{bmatrix} = \\begin{bmatrix} 0 \\\\ 0 \\end{bmatrix} $$\n",
    "\n",
    "\n",
    "This gives both $c_1$ and $c_2$ as free variables, so all vectors $\\vec{v} \\in \\mathbb{C}^2$ are eigenvectors of $\\sigma_I$ with eigenvalue $\\lambda = 1$. \n",
    "\n",
    "Now we can find the eigenvalues for $\\sigma_x$:\n",
    "$$ \\sigma_x | \\lambda \\rangle = \\lambda | \\lambda \\rangle $$\n",
    "$$ \\begin{bmatrix} 0 & 1 \\\\ 1 & 0 \\end{bmatrix} \\begin{bmatrix} c_1 \\\\ c_2 \\end{bmatrix} = \\lambda \\begin{bmatrix} c_1 \\\\ c_2 \\end{bmatrix} $$\n",
    "$$ \\begin{bmatrix} c_2 \\\\ c_1 \\end{bmatrix} = \\begin{bmatrix} \\lambda c_1 \\\\ \\lambda c_2 \\end{bmatrix} $$\n",
    "$$ c_2 = \\lambda c_1 $$\n",
    "$$ c_1 = \\lambda c_2 $$\n",
    "$$ \\implies \\lambda^2 - 1 = 0 $$\n",
    "$$ \\implies \\lambda = \\pm 1 $$\n",
    "Now we can find the eigenvectors for $\\sigma_x$:\n",
    "For $\\lambda = 1$:\n",
    "$$ (\\sigma_x - \\lambda I) | \\lambda \\rangle = \\vec{0} $$\n",
    "$$ \\begin{bmatrix} -1 & 1 \\\\ 1 & -1 \\end{bmatrix} \\begin{bmatrix} c_1 \\\\ c_2 \\end{bmatrix} = \\begin{bmatrix} 0 \\\\ 0 \\end{bmatrix} $$\n",
    "$$ \\begin{bmatrix} -c_1 + c_2 \\\\ c_1 - c_2 \\end{bmatrix} = \\begin{bmatrix} 0 \\\\ 0 \\end{bmatrix} $$\n",
    "$$ c_1 = c_2 $$\n",
    "Therefore, the eigenvector for $\\sigma_x$ with eigenvalue $\\lambda = 1$ is $\\begin{bmatrix} 1 \\\\ 1 \\end{bmatrix}$. However, we must normalize this vector, and get $\\frac{1}{\\sqrt{2}} \\begin{bmatrix} 1 \\\\ 1 \\end{bmatrix}$ as our final eigenvector associated with $\\lambda = 1$.\n",
    "\n",
    "For $\\lambda = -1$:\n",
    "$$ (\\sigma_x - \\lambda I) | \\lambda \\rangle = \\vec{0} $$\n",
    "$$ \\implies \\begin{bmatrix} 1 & 1 \\\\ 1 & 1 \\end{bmatrix} \\begin{bmatrix} c_1 \\\\ c_2 \\end{bmatrix} = \\begin{bmatrix} 0 \\\\ 0 \\end{bmatrix} $$\n",
    "$$ \\implies c_1 = -c_2 $$\n",
    "Therefore, the eigenvector for $\\sigma_x$ with eigenvalue $\\lambda = -1$ is $\\begin{bmatrix} 1 \\\\ -1 \\end{bmatrix}$. However, we must normalize this vector, and get $\\frac{1}{\\sqrt{2}} \\begin{bmatrix} 1 \\\\ -1 \\end{bmatrix}$ as our final eigenvector associated with $\\lambda = -1$."
   ]
  },
  {
   "cell_type": "markdown",
   "metadata": {},
   "source": [
    "### Problem 4\n",
    "\n",
    "Given: $$ R_Z(\\gamma) = e^{-i \\frac{\\gamma}{2} Z} $$\n",
    "\n",
    "We find that the explicit matrix form as: \n",
    "\n",
    "$$ \\begin{bmatrix}\n",
    "    e^{-i \\frac{\\gamma}{2}} & 0 \\\\\n",
    "    0 & e^{i \\frac{\\gamma}{2}} \n",
    "    \\end{bmatrix}\n",
    "$$\n",
    "\n",
    "We can apply this operator to the state $ |\\psi \\rangle = \\cos(\\theta/2) |0\\rangle + e^{i\\phi} \\sin(\\theta/2) |1\\rangle $ to get the state $ |\\psi' \\rangle = R_Z(\\gamma) |\\psi \\rangle $. \n",
    "\n",
    "$$ |\\psi' \\rangle = \\begin{bmatrix}\n",
    "    e^{-i \\frac{\\gamma}{2}} & 0 \\\\\n",
    "    0 & e^{i \\frac{\\gamma}{2}} \n",
    "    \\end{bmatrix} \\begin{bmatrix}\n",
    "    \\cos(\\theta/2) \\\\\n",
    "    e^{i\\phi} \\sin(\\theta/2)\n",
    "    \\end{bmatrix} = \\begin{bmatrix}\n",
    "    e^{-i \\frac{\\gamma}{2}} \\cos(\\theta/2) \\\\\n",
    "    e^{i \\frac{\\gamma}{2}} e^{i\\phi} \\sin(\\theta/2)\n",
    "    \\end{bmatrix} $$\n",
    "\n",
    "We can then find the Bloch vector representation of the state $ |\\psi' \\rangle $ by finding the spherical coordinates of the state via the definition:\n",
    "\n",
    "$$ \\mathbf{\\hat{n}} = \\begin{bmatrix}\n",
    "    \\langle \\psi' | \\mathbf{X} | \\psi' \\rangle \\\\\n",
    "    \\langle \\psi' | \\mathbf{Y} | \\psi' \\rangle \\\\\n",
    "    \\langle \\psi' | \\mathbf{Z} | \\psi' \\rangle\n",
    "    \\end{bmatrix} $$\n",
    "\n",
    "\n",
    "We then calculate the expectation values of each of the Pauli matrices:\n",
    "\n",
    "$$ \\langle \\psi' | \\mathbf{X} | \\psi' \\rangle = \\begin{bmatrix}\n",
    "    e^{i \\frac{\\gamma}{2}} \\cos(\\theta/2) & e^{-i \\left(\\frac{\\gamma}{2} + \\phi \\right)} \\sin(\\theta/2)\n",
    "    \\end{bmatrix} \\begin{bmatrix}\n",
    "    0 & 1 \\\\\n",
    "    1 & 0\n",
    "    \\end{bmatrix} \\begin{bmatrix}\n",
    "    e^{-i \\frac{\\gamma}{2}} \\cos(\\theta/2) \\\\\n",
    "    e^{i \\left(\\frac{\\gamma}{2} + \\phi \\right) } \\sin(\\theta/2)\n",
    "    \\end{bmatrix} = \\sin(\\theta) \\cos(\\phi + \\gamma) $$\n",
    "\n",
    "\n",
    "\n",
    "$$ \\langle \\psi' | \\mathbf{Y} | \\psi' \\rangle = \\begin{bmatrix}\n",
    "    e^{i \\frac{\\gamma}{2}} \\cos(\\theta/2) & e^{-i \\left(\\frac{\\gamma}{2} + \\phi \\right)} \\sin(\\theta/2)\n",
    "    \\end{bmatrix} \\begin{bmatrix}\n",
    "    0 & -i \\\\\n",
    "    i & 0\n",
    "    \\end{bmatrix} \\begin{bmatrix}\n",
    "    e^{-i \\frac{\\gamma}{2}} \\cos(\\theta/2) \\\\\n",
    "    e^{i \\left(\\frac{\\gamma}{2} + \\phi \\right) } \\sin(\\theta/2)\n",
    "    \\end{bmatrix} = \\sin(\\theta) \\sin(\\phi + \\gamma) $$\n",
    "\n",
    "$$ \\langle \\psi' | \\mathbf{Z} | \\psi' \\rangle = \\begin{bmatrix}\n",
    "    e^{i \\frac{\\gamma}{2}} \\cos(\\theta/2) & e^{-i \\left(\\frac{\\gamma}{2} + \\phi \\right)} \\sin(\\theta/2)\n",
    "    \\end{bmatrix} \\begin{bmatrix}\n",
    "    1 & 0 \\\\\n",
    "    0 & -1\n",
    "    \\end{bmatrix} \\begin{bmatrix}\n",
    "    e^{-i \\frac{\\gamma}{2}} \\cos(\\theta/2) \\\\\n",
    "    e^{i \\left(\\frac{\\gamma}{2} + \\phi \\right) } \\sin(\\theta/2)\n",
    "    \\end{bmatrix} = \\cos(\\theta) $$\n",
    "\n",
    "\n",
    "Thus, the Bloch vector representation of the state $ |\\psi' \\rangle $ is:\n",
    "\n",
    "$$ \\mathbf{\\hat{n}} = \\begin{bmatrix}\n",
    "    \\sin(\\theta) \\cos(\\phi + \\gamma) \\\\\n",
    "    \\sin(\\theta) \\sin(\\phi + \\gamma) \\\\\n",
    "    \\cos(\\theta)\n",
    "    \\end{bmatrix} $$\n",
    "\n",
    "It is now obvious that the transformation $ R_Z(\\gamma) $ is a rotation of the Bloch sphere about the Z-axis by an angle $\\gamma$, and changes the azimuthal angle of the Bloch vector by $\\gamma$.\n"
   ]
  },
  {
   "cell_type": "code",
   "execution_count": 2,
   "metadata": {},
   "outputs": [
    {
     "name": "stdout",
     "output_type": "stream",
     "text": [
      "[0.70710678 0.         0.70710678]\n",
      "[0.5        0.5        0.70710678]\n"
     ]
    },
    {
     "data": {
      "application/vnd.jupyter.widget-view+json": {
       "model_id": "44a4014b5f7e44508c19e1807e2d4e95",
       "version_major": 2,
       "version_minor": 0
      },
      "text/plain": [
       "interactive(children=(FloatSlider(value=1.57, description='theta', max=3.141592653589793, step=0.01), FloatSli…"
      ]
     },
     "metadata": {},
     "output_type": "display_data"
    },
    {
     "data": {
      "text/plain": [
       "<function __main__.update_bloch(theta, phi, gamma)>"
      ]
     },
     "execution_count": 2,
     "metadata": {},
     "output_type": "execute_result"
    }
   ],
   "source": [
    "import numpy as np\n",
    "import matplotlib.pyplot as plt\n",
    "from qutip import *\n",
    "from ipywidgets import interact\n",
    "\n",
    "\n",
    "# angles \n",
    "theta = np.pi/4\n",
    "phi = 0\n",
    "gamma = np.pi/4\n",
    "\n",
    "# Bloch vector \\hat{n}\n",
    "n = np.array([np.sin(theta)*np.cos(phi), np.sin(theta)*np.sin(phi), np.cos(theta)])\n",
    "print(n)\n",
    "# Bloch vector \\hat{n'} (after rotation)\n",
    "n_prime = np.array([np.sin(theta)*np.cos(phi + gamma), np.sin(theta)*np.sin(phi + gamma), np.cos(theta)])\n",
    "print(n_prime)\n",
    "\n",
    "# create an interactive Bloch sphere that accepts user input to update the angles. \n",
    "\n",
    "def update_bloch(theta, phi, gamma):\n",
    "    b = Bloch()\n",
    "    n = np.array([np.sin(theta)*np.cos(phi), np.sin(theta)*np.sin(phi), np.cos(theta)])\n",
    "    n_prime = np.array([np.sin(theta)*np.cos(phi + gamma), np.sin(theta)*np.sin(phi + gamma), np.cos(theta)])\n",
    "    b.add_vectors(n)\n",
    "    b.add_vectors(n_prime)\n",
    "    b.show()\n",
    "\n",
    "\n",
    "interact(update_bloch, theta=(0, np.pi, 0.01), phi=(0, 2*np.pi, 0.01), gamma=(0, 2*np.pi, 0.01), continuous_update=True)\n",
    "\n",
    "\n"
   ]
  }
 ],
 "metadata": {
  "kernelspec": {
   "display_name": "Python 3",
   "language": "python",
   "name": "python3"
  },
  "language_info": {
   "codemirror_mode": {
    "name": "ipython",
    "version": 3
   },
   "file_extension": ".py",
   "mimetype": "text/x-python",
   "name": "python",
   "nbconvert_exporter": "python",
   "pygments_lexer": "ipython3",
   "version": "3.12.1"
  }
 },
 "nbformat": 4,
 "nbformat_minor": 2
}
