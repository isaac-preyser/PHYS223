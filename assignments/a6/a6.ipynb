{
 "cells": [
  {
   "cell_type": "code",
   "execution_count": 1,
   "id": "4103d68f",
   "metadata": {},
   "outputs": [],
   "source": [
    "import matplotlib.pyplot as plt\n",
    "import numpy as np\n",
    "import random"
   ]
  },
  {
   "cell_type": "code",
   "execution_count": 4,
   "id": "602fb63b",
   "metadata": {},
   "outputs": [],
   "source": [
    "# import functions from given RSA.ipynb file\n",
    "\n",
    "# Euclidian greatest common denominator (egcd)\n",
    "#\n",
    "def egcd(a, b):\n",
    "    if a == 0:\n",
    "        return (b, 0, 1)\n",
    "    else:\n",
    "        g, y, x = egcd(b % a, a)\n",
    "        return (g, x - (b // a) * y, y)\n",
    "#\n",
    "# Modular inverse\n",
    "#\n",
    "def modular_inverse(a, m):\n",
    "    g, x, y = egcd(a, m)\n",
    "    if g != 1:\n",
    "        raise Exception('modular inverse does not exist')\n",
    "    else:\n",
    "        return x % m\n",
    "#\n",
    "#\n",
    "\n",
    "\n",
    "def rsa_generate_key(p: int, q: int) -> \\\n",
    "        tuple[tuple[int, int, int], tuple[int, int]]:\n",
    "    \"\"\"Return an RSA key pair generated using primes p and q.\n",
    "\n",
    "    The return value is a tuple containing two tuples:\n",
    "      1. The first tuple is the private key, containing (p, q, d).\n",
    "      2. The second tuple is the public key, containing (n, e).\n",
    "\n",
    "    Preconditions:\n",
    "        - p and q are prime\n",
    "        - p != q\n",
    "    \"\"\"\n",
    "    # Compute the product of p and q\n",
    "    n = p * q\n",
    "\n",
    "    # Choose e such that gcd(e, phi_n) == 1.\n",
    "    phi_n = (p - 1) * (q - 1)\n",
    "\n",
    "    # Since e is chosen randomly, we repeat the random choice\n",
    "    # until e is coprime to phi_n.\n",
    "    e = random.randint(2, phi_n - 1)\n",
    "    while egcd(e, phi_n)[0] != 1:\n",
    "        e = random.randint(2, phi_n - 1)\n",
    "\n",
    "    # Choose d such that e * d % phi_n = 1.\n",
    "    # Notice that we're using our modular_inverse from our work in the last chapter!\n",
    "    d = modular_inverse(e, phi_n)\n",
    "\n",
    "    return ((p, q, d), (n, e))\n",
    "#\n",
    "#\n",
    "#\n",
    "def rsa_encrypt(public_key: tuple[int, int], plaintext: int) -> int:\n",
    "    \"\"\"Encrypt the given plaintext using the recipient's public key.    \n",
    "    Preconditions:\n",
    "        - public_key is a valid RSA public key (n, e)\n",
    "        - 0 < plaintext < public_key[0]\n",
    "    \"\"\"\n",
    "    n, e = public_key[0], public_key[1]\n",
    "\n",
    "    encrypted = (plaintext ** e) % n\n",
    "\n",
    "    return encrypted\n",
    "#\n",
    "def rsa_decrypt(private_key: tuple[int, int, int], ciphertext: int) -> int:\n",
    "    \"\"\"Decrypt the given ciphertext using the recipient's private key.\n",
    "\n",
    "    Preconditions:\n",
    "        - private_key is a valid RSA private key (p, q, d)\n",
    "        - 0 < ciphertext < private_key[0] * private_key[1]\n",
    "    \"\"\"\n",
    "    p, q, d = private_key[0], private_key[1], private_key[2]\n",
    "    n = p * q\n",
    "\n",
    "    decrypted = (ciphertext ** d) % n\n",
    "\n",
    "    return decrypted\n",
    "#\n",
    "#"
   ]
  },
  {
   "cell_type": "markdown",
   "id": "db3792cf",
   "metadata": {},
   "source": [
    "# 1. Group Theory.\n",
    "For this problem, let $p = 5$ and $q = 11$. "
   ]
  },
  {
   "cell_type": "markdown",
   "id": "a6c138bd",
   "metadata": {},
   "source": [
    "## 1a. List all elements of $G_{pq}$. \n",
    "\n",
    "$G_{pq} = \\{1, 2, 3, 4, 6, 7, 8, 9, 12, 13, 14, 16, 17, 18, 19, 21, 23, 24, 26, 27, 28, 29, 31, 32, 34, 36, 37, 38, 39, 41, 42, 43, 46, 47, 48, 49, 51, 52, 53, 54 \\}$\n"
   ]
  },
  {
   "cell_type": "markdown",
   "id": "93975676",
   "metadata": {},
   "source": [
    "## 1b. State the four axioms that $G_{pq}$ satisfies to be a group, and give an explicit example of each. \n",
    "\n",
    "i. **Existence of Identity**: There exists an element $e \\in G_{pq}$ such that for all $g \\in G_{pq}$, $g \\cdot e = g$ and $e \\cdot g = g$.\n",
    "- Example: $1$ is the identity element in $G_{pq}$, since for any $g \\in G_{pq}$, $g \\cdot 1 = g$ and $1 \\cdot g = g$.\n",
    "\n",
    "ii. **Multiplication is closed**: For all $g_1, g_2 \\in G_{pq}$, the product $g_1 \\cdot g_2$ is also in $G_{pq}$.\n",
    "- Example: For $g_1 = 2$ and $g_2 = 3$, we have $g_1 \\cdot g_2 = 2 \\cdot 3 = 6$, which is also in $G_{pq}$.\n",
    "\n",
    "iii. **Associativity**: For all $g_1, g_2, g_3 \\in G_{pq}$, $(g_1 \\cdot g_2) \\cdot g_3 = g_1 \\cdot (g_2 \\cdot g_3)$.\n",
    "- Example: For $g_1 = 2$, $g_2 = 3$, and $g_3 = 4$, we have $(g_1 \\cdot g_2) \\cdot g_3 = (2 \\cdot 3) \\cdot 4 = 6 \\cdot 4 = 24$ and $g_1 \\cdot (g_2 \\cdot g_3) = 2 \\cdot (3 \\cdot 4) = 2 \\cdot 12 = 24$, so the associativity holds.\n",
    "\n",
    "iv. **Existence of Inverses**: For each $g \\in G_{pq}$, there exists an element $g^{-1} \\in G_{pq}$ such that $g \\cdot g^{-1} = g^{-1} \\cdot g = 1 \\pmod{N}$.\n",
    "- Example: 14 is the inverse of 4 in $G_{pq}$, since $4 \\cdot 14 = 56 \\equiv 1 \\pmod{55}$ and $14 \\cdot 4 = 56 \\equiv 1 \\pmod{55}$. Hence $4^{-1} = 14$, and we have shown an example of the existence of inverses."
   ]
  },
  {
   "cell_type": "markdown",
   "id": "f1437b94",
   "metadata": {},
   "source": [
    "## 1c. Show the elements of the group $G_{(p-1)(q-1)} = G_{40}$.\n",
    "$G_{40} = \\{1, 3, 7, 9, 11, 13, 17, 19, 21, 23, 27, 29, 31, 33, 37, 39\\}$\n"
   ]
  },
  {
   "cell_type": "markdown",
   "id": "92dd88c9",
   "metadata": {},
   "source": [
    "## 1d. Find the inverse of the first 4 elements of $G_{40}$.\n",
    "We can use code supplied in RSA.ipynb to expedite this process. \n"
   ]
  },
  {
   "cell_type": "code",
   "execution_count": 5,
   "id": "e5a6192c",
   "metadata": {},
   "outputs": [
    {
     "name": "stdout",
     "output_type": "stream",
     "text": [
      "1^-1 = 1\n",
      "3^-1 = 27\n",
      "7^-1 = 23\n",
      "9^-1 = 9\n",
      "\n",
      "(1 * 1) (mod 40) = 1 (mod 40) = 1\n",
      "(3 * 27) (mod 40) = 81 (mod 40) = 1\n",
      "(7 * 23) (mod 40) = 161 (mod 40) = 1\n",
      "(9 * 9) (mod 40) = 81 (mod 40) = 1\n"
     ]
    }
   ],
   "source": [
    "G_40 = [1, 3, 7, 9, 11, 13, 17, 19, 21, 23, 27, 29, 31, 33, 37, 39]\n",
    "\n",
    "inverses = []\n",
    "\n",
    "for i in range(0, 4):\n",
    "    inverses.append(modular_inverse(G_40[i], 40))\n",
    "    print(f'{G_40[i]}^-1 = {inverses[i]}')\n",
    "print()\n",
    "\n",
    "\n",
    "# We can then check these values. \n",
    "for i in inverses: \n",
    "    print(f'({G_40[inverses.index(i)]} * {i}) (mod 40) = {i * G_40[inverses.index(i)]} (mod 40) = {(i * G_40[inverses.index(i)]) % 40}')\n",
    "# The output should be 1 for each of the values."
   ]
  },
  {
   "cell_type": "markdown",
   "id": "76ed73a0",
   "metadata": {},
   "source": [
    "## 1d. Find the order of the first 4 elements of $G_{40}$.\n"
   ]
  },
  {
   "cell_type": "code",
   "execution_count": 6,
   "id": "803c49a2",
   "metadata": {},
   "outputs": [
    {
     "name": "stdout",
     "output_type": "stream",
     "text": [
      "Order of 1 is 1\n",
      "Order of 27 is 4\n",
      "Order of 23 is 4\n",
      "Order of 9 is 2\n"
     ]
    }
   ],
   "source": [
    "for i in range(len(inverses)):\n",
    "    j = 1\n",
    "    element = inverses[i]\n",
    "    while (element**j % 40) != 1:\n",
    "        j += 1\n",
    "    print(f'Order of {inverses[i]} is {j}')\n",
    "    "
   ]
  },
  {
   "cell_type": "markdown",
   "id": "a507b6eb",
   "metadata": {},
   "source": [
    "#2. RSA.\n",
    "## 2a. Generate a public and private key for Bob. "
   ]
  },
  {
   "cell_type": "code",
   "execution_count": 7,
   "id": "a5c4fa56",
   "metadata": {},
   "outputs": [
    {
     "name": "stdout",
     "output_type": "stream",
     "text": [
      "Private key [only Bob knows this]: (5, 11, 27)\n",
      "Public key [broadcast for everyone]: (55, 3)\n"
     ]
    }
   ],
   "source": [
    "#keys = [private_key, public_key] = rsa_generate_key(5, 11) \n",
    "keys = [private_key, public_key] = [(5, 11, 27), (55, 3)] # this is done to avoid generating random keys so the numbers I explain and the numbers I generate match. \n",
    "print(f'Private key [only Bob knows this]: {private_key}')\n",
    "print(f'Public key [broadcast for everyone]: {public_key}')\n"
   ]
  },
  {
   "cell_type": "markdown",
   "id": "610d6cc5",
   "metadata": {},
   "source": [
    "## 2b. Choose a numerical element of $G_{55}$ to be the message and explain how Alice can use Bob's public key to encrypt the message and send it secretly to Bob.\n",
    "\n",
    "For the purpose of this example, we will use the message $a = 26$. \n",
    "\n",
    "We can then apply the public key via \n",
    "\n",
    "$$ b \\equiv{} a^{c} \\pmod{N} $$\n",
    "\n",
    "where $b$ is the encrypted message, $a$ is the original message, $c$ is the public key, and $N = pq$ is the modulus. As $N$ and $c$ are public, Alice can encrypt her original message $a$ and send the encrypted message $b$ to Bob freely over a public channel. \n",
    "\n",
    "Hence, we can then calculate the encrypted message as follows:"
   ]
  },
  {
   "cell_type": "code",
   "execution_count": null,
   "id": "d7542be6",
   "metadata": {},
   "outputs": [
    {
     "name": "stdout",
     "output_type": "stream",
     "text": [
      "Message: 26\n",
      "Public key: (55, 3)\n",
      "Encrypted message: 31\n"
     ]
    }
   ],
   "source": [
    "a = 26 # This is the message. \n",
    "print(f'Message: {a}')\n",
    "print(f'Public key: {public_key}')\n",
    "\n",
    "b = rsa_encrypt(public_key, a) # This is the encrypted message.\n",
    "print(f'Encrypted message: {b}')\n"
   ]
  },
  {
   "cell_type": "markdown",
   "id": "acaf4b01",
   "metadata": {},
   "source": [
    "## 2c. Explain how Bob can decrypt the message using his private key.\n",
    "\n",
    "As Bob still has his private key, he (and only he, provided his private key is kept secret) can decrypt the message using the following formula:\n",
    "$$ a \\equiv{} b^{d} \\pmod{N} $$\n",
    "\n",
    "where $a$ is the original message, $b$ is the encrypted message, $d$ is the private key, and $N = pq$ is the modulus.\n",
    "\n",
    "This is because \n",
    "$$ cd \\equiv{} 1 \\pmod{(p-1)(q-1)} $$\n",
    "where $c$ is the public key, $d$ is the private key, and $(p-1)(q-1)$ is the totient of $N$, as $N$ is the product of two primes. Therefore, we can rest assured that $c$ and $d$ are multiplicative inverses of each other, and therefore can encrypt and decrypt messages using the above formulas.\n",
    "\n",
    "We can then show the decryption process using the code supplied in RSA.ipynb."
   ]
  },
  {
   "cell_type": "code",
   "execution_count": 6,
   "id": "7003a47d",
   "metadata": {},
   "outputs": [
    {
     "name": "stdout",
     "output_type": "stream",
     "text": [
      "Decrypted Message: 26\n"
     ]
    }
   ],
   "source": [
    "print(f'Decrypted Message: {rsa_decrypt(private_key, b)}')"
   ]
  },
  {
   "cell_type": "markdown",
   "id": "96b1e7c6",
   "metadata": {},
   "source": [
    "# 3. Hacking RSA with period finding.\n",
    "\n",
    "We can use a period finding machine to decrypt Alice's message by instituting Shor's algorithm.\n",
    "\n",
    "As the encryption and decryption process is based on the raising a secret to an arbitrary power, and then applying modulo $N$, we can observe that the function will repeat every $N$ iterations, and therefore we can find the period of the function and decrypt the message.\n",
    "\n",
    "We will use a period finding attack to find the period $r$ in $f(x) = b^{x} \\pmod{N}$.\n",
    "\n",
    "Hence, $f(x + r) \\equiv f(x) $, when $b^{r} \\equiv 1 \\pmod{N}$. This implies that $f(x)$ is periodic with period $r$.\n",
    "\n",
    "First, we need to find the \"order of b\", or equivalently, the \"order of a\"- therefore, we must find $ k \\in \\mathbb{Z} $ such that $ b^{k} \\equiv 1 \\pmod{N} $."
   ]
  },
  {
   "cell_type": "code",
   "execution_count": null,
   "id": "847dd5b9",
   "metadata": {},
   "outputs": [
    {
     "name": "stdout",
     "output_type": "stream",
     "text": [
      "Order of 31 is 5\n"
     ]
    }
   ],
   "source": [
    "k = 1\n",
    "N = 55\n",
    "\n",
    "\n",
    "while ((b ** k) % N) != 1:\n",
    "    k += 1\n",
    "print(f'Order of {b} is {k}')"
   ]
  },
  {
   "cell_type": "markdown",
   "id": "d29fc3d8",
   "metadata": {},
   "source": [
    "Now that we know $k = 5$, we know that $k = |S_a|$ is the order of $a$ in $G_{pq} = (p - 1)(q - 1)$.  As Bob picked $c$ to have no common factor with $(p-1)(q-1)$, and $k$ is a divisor of $|G_{pq}|$, we can conclude that $c$ has no common factor with $k$, and begin our search for $c'$. Recall that this is: \n",
    "\n",
    "$$ c' = c \\pmod{k}; \\qquad{} \\text{ for } c' \\in{} G_{k}$$ \n",
    "\n",
    "We can then calculate $d' = c'^{-1} \\in{} G_{k}$, where $d'$ satisfies the following:\n",
    "$$ c'd' \\equiv{} 1 \\pmod{k} $$"
   ]
  },
  {
   "cell_type": "code",
   "execution_count": null,
   "id": "f10adcc0",
   "metadata": {},
   "outputs": [
    {
     "name": "stdout",
     "output_type": "stream",
     "text": [
      "c_prime = 3\n",
      "d_prime = 2\n"
     ]
    }
   ],
   "source": [
    "k = 5\n",
    "c = public_key[1] # = 3\n",
    "d_prime = 1 # Looking for d_prime\n",
    "\n",
    "\n",
    "c_prime = c % k # c_prime = 3 % 5 = 3\n",
    "print(f'c_prime = {c_prime}')\n",
    "\n",
    "\n",
    "\n",
    "while ((c_prime * d_prime) % k) != 1:\n",
    "    if (d_prime > k): \n",
    "        print(f'No d_prime found for {c} and {k}')\n",
    "        break\n",
    "    d_prime += 1\n",
    "print(f'd_prime = {d_prime}')\n"
   ]
  },
  {
   "cell_type": "markdown",
   "id": "5639748a",
   "metadata": {},
   "source": [
    "Based on the above, we can then decrypt the message $b$ using the following formula:\n",
    "$$ a \\equiv{} b^{d'} \\pmod{N} $$\n",
    "\n",
    "Observe as we recover the original message $a$ using the above formula."
   ]
  },
  {
   "cell_type": "code",
   "execution_count": 16,
   "id": "1fef69e3",
   "metadata": {},
   "outputs": [
    {
     "name": "stdout",
     "output_type": "stream",
     "text": [
      "Recovered message: 26\n",
      "Original message: 26\n"
     ]
    }
   ],
   "source": [
    "recovered_message = (b ** d_prime) % N\n",
    "print(f'Recovered message: {recovered_message}')\n",
    "# The recovered message should be equal to the original message.\n",
    "print(f'Original message: {a}')"
   ]
  },
  {
   "cell_type": "markdown",
   "id": "7c7c9ad6",
   "metadata": {},
   "source": [
    "As the recovered and original messages are the same, we can conclude that the alternative decryption key is $d' = 2$. "
   ]
  }
 ],
 "metadata": {
  "kernelspec": {
   "display_name": "phys-223",
   "language": "python",
   "name": "python3"
  },
  "language_info": {
   "codemirror_mode": {
    "name": "ipython",
    "version": 3
   },
   "file_extension": ".py",
   "mimetype": "text/x-python",
   "name": "python",
   "nbconvert_exporter": "python",
   "pygments_lexer": "ipython3",
   "version": "3.11.11"
  }
 },
 "nbformat": 4,
 "nbformat_minor": 5
}
