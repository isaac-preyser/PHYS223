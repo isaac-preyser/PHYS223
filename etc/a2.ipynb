{
  "cells": [
    {
      "cell_type": "markdown",
      "id": "8d239d9f-4669-48fb-944f-a94021c946b1",
      "metadata": {},
      "source": [
        "# Question 1 \n",
        "\n",
        "a) Given the alogrithm below, here is the line-by-line count (only assignments and comparisons): \n",
        "```\n",
        "1.      p <- 1                    # 1A \n",
        "2.      for i <- 1 to n^2 + 1 do  # 1A + 1C, (n^2+1)(1A + 1C)\n",
        "3.          p <- p * i            # (n^2+1)(1A)\n",
        "```\n",
        "The total number of operations follows: \n",
        "$$\n",
        "\\sum_{i=1}^{n^2+1} (3) + (3) \n",
        "$$\n",
        "$$\n",
        "3\\cdot \\sum_{i=1}^{n^2+1} (1) + 3\n",
        "$$\n",
        "$$\n",
        "3(n^2+1) + 3\n",
        "$$\n",
        "$$\n",
        "3n^2 + 6\n",
        "$$ \n",
        "\n",
        "b) Given the algorithm below, find the line-by-line count (only assignments and comparisons) \n",
        "\n",
        "```\n",
        "1.    s <- 1                      # 1A \n",
        "2.    for i <- 0 to n^2 + 1 do    # 1A + 1C \n",
        "3.        for j <- 1 to i do      # (n^2 + 1)(1A + 1C) \n",
        "4.            s <- s + i          # \\sum_{i}^{n^2 + 1} \\sum_{j = 1}^{i} (1A + 1C + 1A)\n",
        "```\n",
        "\n",
        "This gives the following count: \n",
        "$$ \n",
        "\\begin{align} \n",
        "    &3 + \\sum_{i = 0}^{n^2 + 1}(2) + \\sum_{j = 1}^{i} (3) \\\\\n",
        "    &3+ 2(n^2 + 1) + 3 \\cdot \\sum_{i}^{n^2 + 1} (i) \\\\ \n",
        "    &3 + 2(n^2 + 1) + 3 \\frac{(n^2+1)(n^2 + 2)}{2} \\\\ \n",
        "    &3 + 2n^2 + 2 + \\frac{3(n^4 + 2n^2 + n^2 + 2)}{2} \\\\\n",
        "    &\\frac{6 + 4n^2 + 4 + 3(n^4 + 2n^2 + n^2 + 2)}{2} \\\\\n",
        "    &\\frac{6 + 4n^2 + 4 + 3n^4 + 6n^2 + 3n^2 + 6}{2} \\\\\n",
        "    &\\frac{18 + 13n^2 + 3n^4}{2}\n",
        "\\end{align}\n",
        "$$"
      ]
    },
    {
      "cell_type": "code",
      "execution_count": null,
      "id": "ddb19392-f026-4aee-b062-a14adcff2f71",
      "metadata": {
        "trusted": true
      },
      "outputs": [],
      "source": [
        "#q2\n",
        "\n",
        "#minmax: given an array A of n integers, this function will find the minimum and maximum of the array and store them in out.\n",
        "#A: array of integers\n",
        "#n: length of the array - len(A) - 1\n",
        "#out: array of 2 integers, initalized to [A[0], A[0]]. out[0] is the minimum and out[1] is the maximum.\n",
        "\n",
        "def minmax(A, n, out):\n",
        "    if n == -1: #1C\n",
        "        return out #1A\n",
        "    if (out[0] >= A[n]): #1C\n",
        "        out[0] = A[n]    #1A \n",
        "    if (out[1] <= A[n]): #1C\n",
        "        out[1] = A[n]    #1A\n",
        "    \n",
        "    return minmax(A, n - 1 ,out) #T(n-1)"
      ]
    },
    {
      "cell_type": "markdown",
      "id": "887c6ae7-f71c-4f6c-a4a1-3bba01cd3950",
      "metadata": {},
      "source": [
        "The above algorithm gives the following count for the worst case: \n",
        "\n",
        "$$\n",
        "\\begin{align}\n",
        "    &1C + 1C + 1A + 1C + 1A + T(n-1) \\\\\n",
        "    &=5 + T(n - 1) \\\\\n",
        "    &=5 + (5 + T(n-2)) \\\\\n",
        "    &=5 + (5 + (5 + T(n-3))) \\\\\n",
        "    &\\;\\; \\vdots \\notag \\\\\n",
        "    &=5k + T(n-k)\n",
        "\\end{align}\n",
        "$$\n",
        "When $n - k = 1$, $k = n - 1$. Therefore,\n",
        "$$\n",
        "\\begin{align}\n",
        "    &= 5(n-1) + T(1) \\\\\n",
        "    &= 5n-5 + 2 \\\\\n",
        "    &= \\boxed{5n -3} \\\\ \n",
        "\\end{align}\n",
        "$$\n"
      ]
    },
    {
      "cell_type": "code",
      "execution_count": null,
      "id": "d3df0d79-572d-4a49-a8f5-58eb17e9d173",
      "metadata": {
        "trusted": true
      },
      "outputs": [],
      "source": []
    }
  ],
  "metadata": {
    "kernelspec": {
      "display_name": "Python (Pyodide)",
      "language": "python",
      "name": "python"
    },
    "language_info": {
      "codemirror_mode": {
        "name": "python",
        "version": 3
      },
      "file_extension": ".py",
      "mimetype": "text/x-python",
      "name": "python",
      "nbconvert_exporter": "python",
      "pygments_lexer": "ipython3",
      "version": "3.8"
    }
  },
  "nbformat": 4,
  "nbformat_minor": 5
}
